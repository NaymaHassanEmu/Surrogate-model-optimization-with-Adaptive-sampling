{
 "cells": [
  {
   "cell_type": "code",
   "execution_count": 1,
   "id": "92d1595e",
   "metadata": {
    "scrolled": true
   },
   "outputs": [],
   "source": [
    "import numpy as np\n",
    "from numpy import nan\n",
    "import matplotlib.pyplot as plt\n",
    "import pandas as pd\n",
    "import math\n",
    "%run 1.Sobol_sequence.ipynb"
   ]
  },
  {
   "cell_type": "code",
   "execution_count": 2,
   "id": "11413712",
   "metadata": {},
   "outputs": [],
   "source": [
    "df = pd.read_excel('naca0012.xlsx')"
   ]
  },
  {
   "cell_type": "code",
   "execution_count": 3,
   "id": "a33c5103",
   "metadata": {},
   "outputs": [],
   "source": [
    "x = df['x']\n",
    "y = df['y']"
   ]
  },
  {
   "cell_type": "code",
   "execution_count": 4,
   "id": "145e84e8-8c06-4a75-91e5-84cd387d6313",
   "metadata": {},
   "outputs": [],
   "source": [
    "df = pd.DataFrame({'x': x, 'y': y})\n",
    "path = \"Deformed_foils\\\\0rig_NACA0012.dat\"\n",
    "df.to_csv(path, index=False, sep=' ')"
   ]
  },
  {
   "cell_type": "code",
   "execution_count": 5,
   "id": "ab3280e3",
   "metadata": {},
   "outputs": [],
   "source": [
    "# plt.plot(x,y)\n",
    "# plt.gca().set_aspect('equal', adjustable='box')\n",
    "# plt.title('Original Airfoil (NACA 0012)')\n",
    "# plt.xlabel('X-coordinate')\n",
    "# plt.ylabel('Y-coordinate')\n",
    "# plt.grid()"
   ]
  },
  {
   "cell_type": "code",
   "execution_count": 6,
   "id": "b13b7fa9",
   "metadata": {},
   "outputs": [],
   "source": [
    "x = df['x'].values\n",
    "y = df['y'].values"
   ]
  },
  {
   "cell_type": "code",
   "execution_count": 7,
   "id": "280278c9",
   "metadata": {},
   "outputs": [],
   "source": [
    "x = x[np.logical_not(np.isnan(x))]\n",
    "y = y[np.logical_not(np.isnan(y))]"
   ]
  },
  {
   "cell_type": "code",
   "execution_count": 8,
   "id": "6b10a6cc-3e52-424c-b0ed-90868af3205d",
   "metadata": {},
   "outputs": [
    {
     "data": {
      "text/plain": [
       "0.012"
      ]
     },
     "execution_count": 8,
     "metadata": {},
     "output_type": "execute_result"
    }
   ],
   "source": [
    "t_max = 2*max(abs(y))\n",
    "limit = 0.1*t_max\n",
    "limit"
   ]
  },
  {
   "cell_type": "code",
   "execution_count": 9,
   "id": "73d366fd-2b97-423d-8851-2e21ab1e6c28",
   "metadata": {},
   "outputs": [
    {
     "data": {
      "text/plain": [
       "0      [0.0084, 0.0104, -0.0033, -0.0033, -0.0086, 0....\n",
       "1      [-0.0045, -0.0035, 0.0057, 0.0062, 0.0106, -0....\n",
       "2      [-0.0093, 0.0038, -0.0083, -0.0113, 0.003, -0....\n",
       "3      [0.0019, -0.0093, 0.0067, 0.0025, -0.0012, 0.0...\n",
       "4      [0.0045, 0.0017, 0.0026, 0.005, -0.0039, 0.003...\n",
       "                             ...                        \n",
       "123    [0.0042, -0.0098, -0.0012, -0.0115, -0.0068, 0...\n",
       "124    [0.0021, 0.0024, -0.0075, -0.008, -0.0102, 0.0...\n",
       "125    [-0.009, -0.0077, 0.0074, 0.0052, 0.0062, -0.0...\n",
       "126    [-0.0042, 0.009, -0.004, -0.0013, 0.0016, -0.0...\n",
       "127    [0.0086, -0.0019, 0.0049, 0.0103, -0.0058, 0.0...\n",
       "Length: 128, dtype: object"
      ]
     },
     "execution_count": 9,
     "metadata": {},
     "output_type": "execute_result"
    }
   ],
   "source": [
    "num_samples = 128\n",
    "excel_name = 'design_parmeter.xlsx'\n",
    "a = get_sobol_samples(limit, num_samples, excel_name, seed=0)\n",
    "a"
   ]
  },
  {
   "cell_type": "code",
   "execution_count": 10,
   "id": "ca2ec863",
   "metadata": {},
   "outputs": [],
   "source": [
    "#inputs\n",
    "n = 4\n",
    "w = np.full(n,2) \n",
    "xM = [0.2, 0.4, 0.6, 0.8]"
   ]
  },
  {
   "cell_type": "code",
   "execution_count": 11,
   "id": "f2f2e6db",
   "metadata": {},
   "outputs": [],
   "source": [
    "def hicks_henne_overall(x_coord, y_coord , n, a, i, w, xM):\n",
    "    def split_xy(arr):\n",
    "        half = len(arr)//2\n",
    "        return arr[:half+1], arr[half+1:]\n",
    "\n",
    "    x_up, x_low = split_xy(x)\n",
    "    y_up, y_low = split_xy(y)\n",
    "    \n",
    "    a_up = a[i][:n]\n",
    "    a_low = a[i][n:]\n",
    "\n",
    "    def hicks_henne(x_coord, y_coord , n, a, w, xM):\n",
    "        y_deformed = np.array(y_coord)\n",
    "        for i in range(n):\n",
    "            ai = a[i]\n",
    "            xMi = xM[i]\n",
    "            wi = w[i]\n",
    "            m = np.log(0.5)/np.log(xMi)\n",
    "            f = np.sin(np.pi * np.array(x_coord) ** m ) ** wi\n",
    "            y_deformed += ai * f\n",
    "            \n",
    "            x_1 = []\n",
    "            for j in range(0,1001):\n",
    "                x_1.append(j/1000)\n",
    "            f_b = np.sin(np.pi * np.array(x_1) ** m ) ** wi\n",
    "            \n",
    "    #         plt.xlabel('X-coordinate')\n",
    "    #         plt.ylabel('Bump function')\n",
    "    #         plt.plot(x_1, f_b)\n",
    "    #         plt.title('Hicks-Henn Bump Function')\n",
    "    \n",
    "        return y_deformed \n",
    "\n",
    "    \n",
    "    y_mod_up = hicks_henne(x_up, y_up, n, a_up, w, xM)\n",
    "    y_mod_low = hicks_henne(x_low, y_low, n, a_low, w, xM)\n",
    "    y_mod = np.concatenate((y_mod_up, y_mod_low))\n",
    "    return y_mod\n",
    "\n"
   ]
  },
  {
   "cell_type": "code",
   "execution_count": 12,
   "id": "4ed1a9f9",
   "metadata": {},
   "outputs": [
    {
     "data": {
      "image/png": "[encoded data removed]",
      "text/plain": [
       "<Figure size 640x480 with 1 Axes>"
      ]
     },
     "metadata": {},
     "output_type": "display_data"
    }
   ],
   "source": [
    "if globals().get('__file__', '') == '':\n",
    "    i = 10\n",
    "    y_mod = hicks_henne_overall(x, y , n, a, i, w, xM)\n",
    "    \n",
    "    \n",
    "    plt.plot(x,y_mod)\n",
    "    plt.gca().set_aspect('equal', adjustable='box')\n",
    "    plt.title('Deformed Airfoil')\n",
    "    plt.xlabel('X-coordinate')\n",
    "    plt.ylabel('Y-coordinate')\n",
    "    plt.grid()"
   ]
  },
  {
   "cell_type": "code",
   "execution_count": 13,
   "id": "58671fd6",
   "metadata": {},
   "outputs": [],
   "source": [
    "def plot_foils(x, y, y_mod):\n",
    "    plt.plot(x, y, label = \"Original Airfoil\")\n",
    "    plt.plot(x, y_mod, label = \"Deformed Airfoil\")\n",
    "    plt.gca().set_aspect('equal', adjustable='box')\n",
    "    plt.title('Original Airfoil vs Deformed Airfoil')\n",
    "    plt.xlabel('X-coordinate')\n",
    "    plt.ylabel('Y-coordinate')\n",
    "    plt.legend(loc=(1,1))\n",
    "    plt.grid()"
   ]
  },
  {
   "cell_type": "code",
   "execution_count": 14,
   "id": "266628af-5e7f-48db-a053-4f23c76ff41e",
   "metadata": {},
   "outputs": [
    {
     "data": {
      "image/png": "[encoded data removed]",
      "text/plain": [
       "<Figure size 640x480 with 1 Axes>"
      ]
     },
     "metadata": {},
     "output_type": "display_data"
    }
   ],
   "source": [
    "if globals().get('__file__', '') == '':\n",
    "    plot_foils(x, y, y_mod)"
   ]
  },
  {
   "cell_type": "code",
   "execution_count": 19,
   "id": "e9f95a83",
   "metadata": {},
   "outputs": [],
   "source": [
    "def deformed_foil_generator(x, y, n, a, w, xM, num_samples):\n",
    "    for i in range(num_samples):\n",
    "        y_mod = hicks_henne_overall(x, y, n, a, i, w, xM)\n",
    "        df = pd.DataFrame({'x': x, 'y_modified': y_mod})\n",
    "        path = \"Deformed_foils\\\\Deformed_airfoil_\" + str(i) + \".dat\"\n",
    "        \n",
    "        df.to_csv(path, index=False, sep=' ')"
   ]
  },
  {
   "cell_type": "code",
   "execution_count": 20,
   "id": "58d59627-a41a-44d7-8fa9-add8b036bbc8",
   "metadata": {},
   "outputs": [],
   "source": [
    "if globals().get('__file__', '') == '':\n",
    "    deformed_foil_generator(x, y, n, a, w, xM, num_samples)"
   ]
  },
  {
   "cell_type": "code",
   "execution_count": 17,
   "id": "ce2a8030-37a0-422c-bf4b-c3fcc9731c4b",
   "metadata": {},
   "outputs": [],
   "source": [
    "# def deformed_foils_plots(x, y, n, a, w, xM, num_samples, save_path):\n",
    "#     fig, axs = plt.subplots(int(num_samples/2), 2, figsize=(20, 300))\n",
    "#     axs = axs.flatten()\n",
    "#     # Plot each dataset\n",
    "#     for i in range(num_samples):\n",
    "#         y_mod = hicks_henne_overall(x, y , n, a, i, w, xM)\n",
    "#         ax = axs[i]\n",
    "#         ax.plot(x, y)\n",
    "#         ax.plot(x, y_mod)\n",
    "#         ax.set_title(f'Dataset {i}')\n",
    "#         ax.set_aspect('equal', 'box')\n",
    "#     plt.tight_layout()  \n",
    "#     if save_path:\n",
    "#         plt.savefig(save_path, dpi = 150) \n",
    "#     plt.show()\n"
   ]
  },
  {
   "cell_type": "code",
   "execution_count": 18,
   "id": "6724f001-141c-4091-976e-f0b152e09d62",
   "metadata": {},
   "outputs": [],
   "source": [
    "# if globals().get('__file__', '') == '':\n",
    "#     save_path =\"Deformed_foils\\Deformed_airfoils\"\n",
    "#     deformed_foils_plots(x, y, n, a, w, xM, num_samples, save_path)"
   ]
  },
  {
   "cell_type": "code",
   "execution_count": null,
   "id": "7c59ce2e-0e88-4199-81b4-07feca9fd157",
   "metadata": {},
   "outputs": [],
   "source": []
  }
 ],
 "metadata": {
  "kernelspec": {
   "display_name": "Python 3 (ipykernel)",
   "language": "python",
   "name": "python3"
  },
  "language_info": {
   "codemirror_mode": {
    "name": "ipython",
    "version": 3
   },
   "file_extension": ".py",
   "mimetype": "text/x-python",
   "name": "python",
   "nbconvert_exporter": "python",
   "pygments_lexer": "ipython3",
   "version": "3.11.3"
  }
 },
 "nbformat": 4,
 "nbformat_minor": 5
}
