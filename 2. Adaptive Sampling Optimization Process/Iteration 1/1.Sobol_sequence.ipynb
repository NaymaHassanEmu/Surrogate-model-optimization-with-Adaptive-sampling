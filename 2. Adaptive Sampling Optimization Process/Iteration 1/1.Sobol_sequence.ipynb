{
 "cells": [
  {
   "cell_type": "code",
   "execution_count": 2,
   "id": "22618970",
   "metadata": {},
   "outputs": [],
   "source": [
    "# bounds = {\"x1\": [-0.01, 0.01], \"x2\": [-0.01, 0.01], \"x3\": [-0.01, 0.01], \"x4\": [-0.01, 0.01], \"x5\": [-0.01, 0.01], \"x6\": [-0.01, 0.01], \"x7\": [-0.01, 0.01], \"x8\": [-0.01, 0.01]}\n",
    "# num_samples = 256"
   ]
  },
  {
   "cell_type": "code",
   "execution_count": 1,
   "id": "59a9350f",
   "metadata": {},
   "outputs": [],
   "source": [
    "import numpy as np\n",
    "import pandas as pd\n",
    "import plotly.express as px\n",
    "from scipy.stats import qmc\n",
    "from os import path\n",
    "from self_driving_lab_demo.utils.plotting import plot_and_save"
   ]
  },
  {
   "cell_type": "code",
   "execution_count": 3,
   "id": "82294fa8",
   "metadata": {},
   "outputs": [],
   "source": [
    "from scipy.stats.qmc import Sobol\n",
    "\n",
    "def get_sobol_samples(limit, num_samples, excel_name, seed=None):\n",
    "    bounds = {\"x1\": [-limit, limit], \"x2\": [-limit, limit], \"x3\": [-limit, limit], \"x4\": [-limit, limit], \n",
    "              \"x5\": [-limit, limit], \"x6\": [-limit, limit], \"x7\": [-limit, limit], \"x8\": [-limit, limit]}\n",
    "    sampler = Sobol(len(bounds), seed=seed)\n",
    "    samples = sampler.random(num_samples)\n",
    "    \n",
    "    l_bounds = [bound[0] for bound in bounds.values()]\n",
    "    u_bounds = [bound[1] for bound in bounds.values()]\n",
    "    samples = qmc.scale(samples, l_bounds, u_bounds)\n",
    "    design_parameter = pd.DataFrame(samples, columns=list(bounds.keys())).round(4)\n",
    "    design_parameter.to_excel(excel_name)\n",
    "    a = design_parameter.apply(np.array, axis=1)\n",
    "    return a\n"
   ]
  },
  {
   "cell_type": "code",
   "execution_count": 4,
   "id": "5a109483",
   "metadata": {},
   "outputs": [],
   "source": [
    "# import matplotlib.pyplot as plt\n",
    "\n",
    "# plt.scatter(design_parameter.x1,design_parameter.x2, label = '12')\n",
    "# plt.scatter(design_parameter.x2,design_parameter.x3, label = '23')\n",
    "# plt.scatter(design_parameter.x3,design_parameter.x4, label = '34')\n",
    "# plt.scatter(design_parameter.x4,design_parameter.x1, label = '41')\n",
    "\n",
    "# plt.legend(loc=(1.01,0.53))"
   ]
  }
 ],
 "metadata": {
  "kernelspec": {
   "display_name": "Python 3 (ipykernel)",
   "language": "python",
   "name": "python3"
  },
  "language_info": {
   "codemirror_mode": {
    "name": "ipython",
    "version": 3
   },
   "file_extension": ".py",
   "mimetype": "text/x-python",
   "name": "python",
   "nbconvert_exporter": "python",
   "pygments_lexer": "ipython3",
   "version": "3.11.3"
  }
 },
 "nbformat": 4,
 "nbformat_minor": 5
}
